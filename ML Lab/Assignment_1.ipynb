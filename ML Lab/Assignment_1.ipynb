{
  "nbformat": 4,
  "nbformat_minor": 2,
  "metadata": {
    "kernelspec": {
      "display_name": "Python 3 (ipykernel)",
      "language": "python",
      "name": "python3"
    },
    "colab": {
      "name": "Assignment 1.ipynb",
      "provenance": []
    },
    "language_info": {
      "name": "python",
      "version": "3.8.10",
      "mimetype": "text/x-python",
      "codemirror_mode": {
        "name": "ipython",
        "version": 3
      },
      "pygments_lexer": "ipython3",
      "nbconvert_exporter": "python",
      "file_extension": ".py"
    }
  },
  "cells": [
    {
      "cell_type": "markdown",
      "source": [
        "# Housing Prices Data Set - Regression Analysis"
      ],
      "metadata": {
        "id": "24LZPbgzP_1-"
      }
    },
    {
      "cell_type": "code",
      "execution_count": 3,
      "source": [
        "import pandas as pd\n",
        "import numpy as np\n",
        "import matplotlib.pyplot as plt\n",
        "import seaborn as sns\n",
        "import pickle\n",
        "import sys\n",
        "from sklearn.model_selection import train_test_split\n",
        "from sklearn.linear_model import LinearRegression\n",
        "from sklearn.metrics import mean_squared_error\n",
        "from sklearn.preprocessing import OneHotEncoder\n",
        "from scipy.sparse import hstack\n",
        "from sklearn.preprocessing import PolynomialFeatures"
      ],
      "outputs": [],
      "metadata": {
        "id": "Ql9m5BQ3P_2d"
      }
    },
    {
      "cell_type": "code",
      "execution_count": 4,
      "source": [
        "data = pd.read_csv('house_train.csv')\n",
        "data.head()"
      ],
      "outputs": [
        {
          "output_type": "execute_result",
          "data": {
            "text/html": [
              "<div>\n",
              "<style scoped>\n",
              "    .dataframe tbody tr th:only-of-type {\n",
              "        vertical-align: middle;\n",
              "    }\n",
              "\n",
              "    .dataframe tbody tr th {\n",
              "        vertical-align: top;\n",
              "    }\n",
              "\n",
              "    .dataframe thead th {\n",
              "        text-align: right;\n",
              "    }\n",
              "</style>\n",
              "<table border=\"1\" class=\"dataframe\">\n",
              "  <thead>\n",
              "    <tr style=\"text-align: right;\">\n",
              "      <th></th>\n",
              "      <th>Id</th>\n",
              "      <th>MSSubClass</th>\n",
              "      <th>MSZoning</th>\n",
              "      <th>LotFrontage</th>\n",
              "      <th>LotArea</th>\n",
              "      <th>Street</th>\n",
              "      <th>Alley</th>\n",
              "      <th>LotShape</th>\n",
              "      <th>LandContour</th>\n",
              "      <th>Utilities</th>\n",
              "      <th>...</th>\n",
              "      <th>PoolArea</th>\n",
              "      <th>PoolQC</th>\n",
              "      <th>Fence</th>\n",
              "      <th>MiscFeature</th>\n",
              "      <th>MiscVal</th>\n",
              "      <th>MoSold</th>\n",
              "      <th>YrSold</th>\n",
              "      <th>SaleType</th>\n",
              "      <th>SaleCondition</th>\n",
              "      <th>SalePrice</th>\n",
              "    </tr>\n",
              "  </thead>\n",
              "  <tbody>\n",
              "    <tr>\n",
              "      <th>0</th>\n",
              "      <td>1</td>\n",
              "      <td>60</td>\n",
              "      <td>RL</td>\n",
              "      <td>65.0</td>\n",
              "      <td>8450</td>\n",
              "      <td>Pave</td>\n",
              "      <td>NaN</td>\n",
              "      <td>Reg</td>\n",
              "      <td>Lvl</td>\n",
              "      <td>AllPub</td>\n",
              "      <td>...</td>\n",
              "      <td>0</td>\n",
              "      <td>NaN</td>\n",
              "      <td>NaN</td>\n",
              "      <td>NaN</td>\n",
              "      <td>0</td>\n",
              "      <td>2</td>\n",
              "      <td>2008</td>\n",
              "      <td>WD</td>\n",
              "      <td>Normal</td>\n",
              "      <td>208500</td>\n",
              "    </tr>\n",
              "    <tr>\n",
              "      <th>1</th>\n",
              "      <td>2</td>\n",
              "      <td>20</td>\n",
              "      <td>RL</td>\n",
              "      <td>80.0</td>\n",
              "      <td>9600</td>\n",
              "      <td>Pave</td>\n",
              "      <td>NaN</td>\n",
              "      <td>Reg</td>\n",
              "      <td>Lvl</td>\n",
              "      <td>AllPub</td>\n",
              "      <td>...</td>\n",
              "      <td>0</td>\n",
              "      <td>NaN</td>\n",
              "      <td>NaN</td>\n",
              "      <td>NaN</td>\n",
              "      <td>0</td>\n",
              "      <td>5</td>\n",
              "      <td>2007</td>\n",
              "      <td>WD</td>\n",
              "      <td>Normal</td>\n",
              "      <td>181500</td>\n",
              "    </tr>\n",
              "    <tr>\n",
              "      <th>2</th>\n",
              "      <td>3</td>\n",
              "      <td>60</td>\n",
              "      <td>RL</td>\n",
              "      <td>68.0</td>\n",
              "      <td>11250</td>\n",
              "      <td>Pave</td>\n",
              "      <td>NaN</td>\n",
              "      <td>IR1</td>\n",
              "      <td>Lvl</td>\n",
              "      <td>AllPub</td>\n",
              "      <td>...</td>\n",
              "      <td>0</td>\n",
              "      <td>NaN</td>\n",
              "      <td>NaN</td>\n",
              "      <td>NaN</td>\n",
              "      <td>0</td>\n",
              "      <td>9</td>\n",
              "      <td>2008</td>\n",
              "      <td>WD</td>\n",
              "      <td>Normal</td>\n",
              "      <td>223500</td>\n",
              "    </tr>\n",
              "    <tr>\n",
              "      <th>3</th>\n",
              "      <td>4</td>\n",
              "      <td>70</td>\n",
              "      <td>RL</td>\n",
              "      <td>60.0</td>\n",
              "      <td>9550</td>\n",
              "      <td>Pave</td>\n",
              "      <td>NaN</td>\n",
              "      <td>IR1</td>\n",
              "      <td>Lvl</td>\n",
              "      <td>AllPub</td>\n",
              "      <td>...</td>\n",
              "      <td>0</td>\n",
              "      <td>NaN</td>\n",
              "      <td>NaN</td>\n",
              "      <td>NaN</td>\n",
              "      <td>0</td>\n",
              "      <td>2</td>\n",
              "      <td>2006</td>\n",
              "      <td>WD</td>\n",
              "      <td>Abnorml</td>\n",
              "      <td>140000</td>\n",
              "    </tr>\n",
              "    <tr>\n",
              "      <th>4</th>\n",
              "      <td>5</td>\n",
              "      <td>60</td>\n",
              "      <td>RL</td>\n",
              "      <td>84.0</td>\n",
              "      <td>14260</td>\n",
              "      <td>Pave</td>\n",
              "      <td>NaN</td>\n",
              "      <td>IR1</td>\n",
              "      <td>Lvl</td>\n",
              "      <td>AllPub</td>\n",
              "      <td>...</td>\n",
              "      <td>0</td>\n",
              "      <td>NaN</td>\n",
              "      <td>NaN</td>\n",
              "      <td>NaN</td>\n",
              "      <td>0</td>\n",
              "      <td>12</td>\n",
              "      <td>2008</td>\n",
              "      <td>WD</td>\n",
              "      <td>Normal</td>\n",
              "      <td>250000</td>\n",
              "    </tr>\n",
              "  </tbody>\n",
              "</table>\n",
              "<p>5 rows × 81 columns</p>\n",
              "</div>"
            ],
            "text/plain": [
              "   Id  MSSubClass MSZoning  LotFrontage  LotArea Street Alley LotShape  \\\n",
              "0   1          60       RL         65.0     8450   Pave   NaN      Reg   \n",
              "1   2          20       RL         80.0     9600   Pave   NaN      Reg   \n",
              "2   3          60       RL         68.0    11250   Pave   NaN      IR1   \n",
              "3   4          70       RL         60.0     9550   Pave   NaN      IR1   \n",
              "4   5          60       RL         84.0    14260   Pave   NaN      IR1   \n",
              "\n",
              "  LandContour Utilities  ... PoolArea PoolQC Fence MiscFeature MiscVal MoSold  \\\n",
              "0         Lvl    AllPub  ...        0    NaN   NaN         NaN       0      2   \n",
              "1         Lvl    AllPub  ...        0    NaN   NaN         NaN       0      5   \n",
              "2         Lvl    AllPub  ...        0    NaN   NaN         NaN       0      9   \n",
              "3         Lvl    AllPub  ...        0    NaN   NaN         NaN       0      2   \n",
              "4         Lvl    AllPub  ...        0    NaN   NaN         NaN       0     12   \n",
              "\n",
              "  YrSold  SaleType  SaleCondition  SalePrice  \n",
              "0   2008        WD         Normal     208500  \n",
              "1   2007        WD         Normal     181500  \n",
              "2   2008        WD         Normal     223500  \n",
              "3   2006        WD        Abnorml     140000  \n",
              "4   2008        WD         Normal     250000  \n",
              "\n",
              "[5 rows x 81 columns]"
            ]
          },
          "metadata": {},
          "execution_count": 4
        }
      ],
      "metadata": {
        "scrolled": true,
        "colab": {
          "base_uri": "https://localhost:8080/",
          "height": 253
        },
        "id": "S6FCvWU6P_2l",
        "outputId": "59e2d55b-52b8-4ef7-8d67-28fd4c0f0f78"
      }
    },
    {
      "cell_type": "code",
      "execution_count": 5,
      "source": [
        "data.shape"
      ],
      "outputs": [
        {
          "output_type": "execute_result",
          "data": {
            "text/plain": [
              "(1460, 81)"
            ]
          },
          "metadata": {},
          "execution_count": 5
        }
      ],
      "metadata": {
        "colab": {
          "base_uri": "https://localhost:8080/"
        },
        "id": "ynTJinYYP_2u",
        "outputId": "f15495ff-b70e-48e6-82c5-3b4740593204"
      }
    },
    {
      "cell_type": "code",
      "execution_count": 6,
      "source": [
        "data.columns"
      ],
      "outputs": [
        {
          "output_type": "execute_result",
          "data": {
            "text/plain": [
              "Index(['Id', 'MSSubClass', 'MSZoning', 'LotFrontage', 'LotArea', 'Street',\n",
              "       'Alley', 'LotShape', 'LandContour', 'Utilities', 'LotConfig',\n",
              "       'LandSlope', 'Neighborhood', 'Condition1', 'Condition2', 'BldgType',\n",
              "       'HouseStyle', 'OverallQual', 'OverallCond', 'YearBuilt', 'YearRemodAdd',\n",
              "       'RoofStyle', 'RoofMatl', 'Exterior1st', 'Exterior2nd', 'MasVnrType',\n",
              "       'MasVnrArea', 'ExterQual', 'ExterCond', 'Foundation', 'BsmtQual',\n",
              "       'BsmtCond', 'BsmtExposure', 'BsmtFinType1', 'BsmtFinSF1',\n",
              "       'BsmtFinType2', 'BsmtFinSF2', 'BsmtUnfSF', 'TotalBsmtSF', 'Heating',\n",
              "       'HeatingQC', 'CentralAir', 'Electrical', '1stFlrSF', '2ndFlrSF',\n",
              "       'LowQualFinSF', 'GrLivArea', 'BsmtFullBath', 'BsmtHalfBath', 'FullBath',\n",
              "       'HalfBath', 'BedroomAbvGr', 'KitchenAbvGr', 'KitchenQual',\n",
              "       'TotRmsAbvGrd', 'Functional', 'Fireplaces', 'FireplaceQu', 'GarageType',\n",
              "       'GarageYrBlt', 'GarageFinish', 'GarageCars', 'GarageArea', 'GarageQual',\n",
              "       'GarageCond', 'PavedDrive', 'WoodDeckSF', 'OpenPorchSF',\n",
              "       'EnclosedPorch', '3SsnPorch', 'ScreenPorch', 'PoolArea', 'PoolQC',\n",
              "       'Fence', 'MiscFeature', 'MiscVal', 'MoSold', 'YrSold', 'SaleType',\n",
              "       'SaleCondition', 'SalePrice'],\n",
              "      dtype='object')"
            ]
          },
          "metadata": {},
          "execution_count": 6
        }
      ],
      "metadata": {
        "colab": {
          "base_uri": "https://localhost:8080/"
        },
        "id": "w1ssZiE2P_2-",
        "outputId": "34b0724a-dc67-4dd3-fa5c-847df885eb2c"
      }
    },
    {
      "cell_type": "code",
      "execution_count": 7,
      "source": [
        "data = data[['LotArea', 'LotFrontage', 'OverallCond', 'Street', 'Neighborhood', '1stFlrSF', 'GrLivArea', 'OverallQual', 'YearBuilt', 'YearRemodAdd', 'YrSold', 'SalePrice']]\n",
        "data.head()"
      ],
      "outputs": [
        {
          "output_type": "execute_result",
          "data": {
            "text/html": [
              "<div>\n",
              "<style scoped>\n",
              "    .dataframe tbody tr th:only-of-type {\n",
              "        vertical-align: middle;\n",
              "    }\n",
              "\n",
              "    .dataframe tbody tr th {\n",
              "        vertical-align: top;\n",
              "    }\n",
              "\n",
              "    .dataframe thead th {\n",
              "        text-align: right;\n",
              "    }\n",
              "</style>\n",
              "<table border=\"1\" class=\"dataframe\">\n",
              "  <thead>\n",
              "    <tr style=\"text-align: right;\">\n",
              "      <th></th>\n",
              "      <th>LotArea</th>\n",
              "      <th>LotFrontage</th>\n",
              "      <th>OverallCond</th>\n",
              "      <th>Street</th>\n",
              "      <th>Neighborhood</th>\n",
              "      <th>1stFlrSF</th>\n",
              "      <th>GrLivArea</th>\n",
              "      <th>OverallQual</th>\n",
              "      <th>YearBuilt</th>\n",
              "      <th>YearRemodAdd</th>\n",
              "      <th>YrSold</th>\n",
              "      <th>SalePrice</th>\n",
              "    </tr>\n",
              "  </thead>\n",
              "  <tbody>\n",
              "    <tr>\n",
              "      <th>0</th>\n",
              "      <td>8450</td>\n",
              "      <td>65.0</td>\n",
              "      <td>5</td>\n",
              "      <td>Pave</td>\n",
              "      <td>CollgCr</td>\n",
              "      <td>856</td>\n",
              "      <td>1710</td>\n",
              "      <td>7</td>\n",
              "      <td>2003</td>\n",
              "      <td>2003</td>\n",
              "      <td>2008</td>\n",
              "      <td>208500</td>\n",
              "    </tr>\n",
              "    <tr>\n",
              "      <th>1</th>\n",
              "      <td>9600</td>\n",
              "      <td>80.0</td>\n",
              "      <td>8</td>\n",
              "      <td>Pave</td>\n",
              "      <td>Veenker</td>\n",
              "      <td>1262</td>\n",
              "      <td>1262</td>\n",
              "      <td>6</td>\n",
              "      <td>1976</td>\n",
              "      <td>1976</td>\n",
              "      <td>2007</td>\n",
              "      <td>181500</td>\n",
              "    </tr>\n",
              "    <tr>\n",
              "      <th>2</th>\n",
              "      <td>11250</td>\n",
              "      <td>68.0</td>\n",
              "      <td>5</td>\n",
              "      <td>Pave</td>\n",
              "      <td>CollgCr</td>\n",
              "      <td>920</td>\n",
              "      <td>1786</td>\n",
              "      <td>7</td>\n",
              "      <td>2001</td>\n",
              "      <td>2002</td>\n",
              "      <td>2008</td>\n",
              "      <td>223500</td>\n",
              "    </tr>\n",
              "    <tr>\n",
              "      <th>3</th>\n",
              "      <td>9550</td>\n",
              "      <td>60.0</td>\n",
              "      <td>5</td>\n",
              "      <td>Pave</td>\n",
              "      <td>Crawfor</td>\n",
              "      <td>961</td>\n",
              "      <td>1717</td>\n",
              "      <td>7</td>\n",
              "      <td>1915</td>\n",
              "      <td>1970</td>\n",
              "      <td>2006</td>\n",
              "      <td>140000</td>\n",
              "    </tr>\n",
              "    <tr>\n",
              "      <th>4</th>\n",
              "      <td>14260</td>\n",
              "      <td>84.0</td>\n",
              "      <td>5</td>\n",
              "      <td>Pave</td>\n",
              "      <td>NoRidge</td>\n",
              "      <td>1145</td>\n",
              "      <td>2198</td>\n",
              "      <td>8</td>\n",
              "      <td>2000</td>\n",
              "      <td>2000</td>\n",
              "      <td>2008</td>\n",
              "      <td>250000</td>\n",
              "    </tr>\n",
              "  </tbody>\n",
              "</table>\n",
              "</div>"
            ],
            "text/plain": [
              "   LotArea  LotFrontage  OverallCond Street Neighborhood  1stFlrSF  GrLivArea  \\\n",
              "0     8450         65.0            5   Pave      CollgCr       856       1710   \n",
              "1     9600         80.0            8   Pave      Veenker      1262       1262   \n",
              "2    11250         68.0            5   Pave      CollgCr       920       1786   \n",
              "3     9550         60.0            5   Pave      Crawfor       961       1717   \n",
              "4    14260         84.0            5   Pave      NoRidge      1145       2198   \n",
              "\n",
              "   OverallQual  YearBuilt  YearRemodAdd  YrSold  SalePrice  \n",
              "0            7       2003          2003    2008     208500  \n",
              "1            6       1976          1976    2007     181500  \n",
              "2            7       2001          2002    2008     223500  \n",
              "3            7       1915          1970    2006     140000  \n",
              "4            8       2000          2000    2008     250000  "
            ]
          },
          "metadata": {},
          "execution_count": 7
        }
      ],
      "metadata": {
        "colab": {
          "base_uri": "https://localhost:8080/",
          "height": 204
        },
        "id": "IaaA4T4eP_3E",
        "outputId": "10e01f0f-5842-43e0-c323-a4d034fd243b"
      }
    },
    {
      "cell_type": "code",
      "execution_count": 8,
      "source": [
        "data = data.dropna()\n",
        "data.shape"
      ],
      "outputs": [
        {
          "output_type": "execute_result",
          "data": {
            "text/plain": [
              "(1201, 12)"
            ]
          },
          "metadata": {},
          "execution_count": 8
        }
      ],
      "metadata": {
        "colab": {
          "base_uri": "https://localhost:8080/"
        },
        "id": "WieJ9BRIP_3d",
        "outputId": "a1201d4d-5d31-4b12-ae85-ae3ee5672838"
      }
    },
    {
      "cell_type": "code",
      "execution_count": 10,
      "source": [
        "def normalize(df):\n",
        "    result1 = df.copy()\n",
        "    for feature_name in df.columns:\n",
        "        if (str(feature_name) in ['LotArea', 'LotFrontage', 'OverallCond', '1stFlrSF', 'GrLivArea', 'OverallQual', 'YearBuilt', 'YearRemodAdd', 'YrSold']):\n",
        "            max_value = df[feature_name].max()\n",
        "            min_value = df[feature_name].min()\n",
        "            result1[feature_name] = (df[feature_name] - min_value) / (max_value - min_value)\n",
        "    return result1"
      ],
      "outputs": [],
      "metadata": {
        "id": "c5klHDKNP_31"
      }
    },
    {
      "cell_type": "code",
      "execution_count": 11,
      "source": [
        "data = normalize(data)\n",
        "data.head()"
      ],
      "outputs": [
        {
          "output_type": "execute_result",
          "data": {
            "text/html": [
              "<div>\n",
              "<style scoped>\n",
              "    .dataframe tbody tr th:only-of-type {\n",
              "        vertical-align: middle;\n",
              "    }\n",
              "\n",
              "    .dataframe tbody tr th {\n",
              "        vertical-align: top;\n",
              "    }\n",
              "\n",
              "    .dataframe thead th {\n",
              "        text-align: right;\n",
              "    }\n",
              "</style>\n",
              "<table border=\"1\" class=\"dataframe\">\n",
              "  <thead>\n",
              "    <tr style=\"text-align: right;\">\n",
              "      <th></th>\n",
              "      <th>LotArea</th>\n",
              "      <th>LotFrontage</th>\n",
              "      <th>OverallCond</th>\n",
              "      <th>Street</th>\n",
              "      <th>Neighborhood</th>\n",
              "      <th>1stFlrSF</th>\n",
              "      <th>GrLivArea</th>\n",
              "      <th>OverallQual</th>\n",
              "      <th>YearBuilt</th>\n",
              "      <th>YearRemodAdd</th>\n",
              "      <th>YrSold</th>\n",
              "      <th>SalePrice</th>\n",
              "    </tr>\n",
              "  </thead>\n",
              "  <tbody>\n",
              "    <tr>\n",
              "      <th>0</th>\n",
              "      <td>0.033420</td>\n",
              "      <td>0.150685</td>\n",
              "      <td>0.428571</td>\n",
              "      <td>Pave</td>\n",
              "      <td>CollgCr</td>\n",
              "      <td>0.119780</td>\n",
              "      <td>0.259231</td>\n",
              "      <td>0.666667</td>\n",
              "      <td>0.949275</td>\n",
              "      <td>0.883333</td>\n",
              "      <td>0.50</td>\n",
              "      <td>208500</td>\n",
              "    </tr>\n",
              "    <tr>\n",
              "      <th>1</th>\n",
              "      <td>0.038795</td>\n",
              "      <td>0.202055</td>\n",
              "      <td>0.857143</td>\n",
              "      <td>Pave</td>\n",
              "      <td>Veenker</td>\n",
              "      <td>0.212942</td>\n",
              "      <td>0.174830</td>\n",
              "      <td>0.555556</td>\n",
              "      <td>0.753623</td>\n",
              "      <td>0.433333</td>\n",
              "      <td>0.25</td>\n",
              "      <td>181500</td>\n",
              "    </tr>\n",
              "    <tr>\n",
              "      <th>2</th>\n",
              "      <td>0.046507</td>\n",
              "      <td>0.160959</td>\n",
              "      <td>0.428571</td>\n",
              "      <td>Pave</td>\n",
              "      <td>CollgCr</td>\n",
              "      <td>0.134465</td>\n",
              "      <td>0.273549</td>\n",
              "      <td>0.666667</td>\n",
              "      <td>0.934783</td>\n",
              "      <td>0.866667</td>\n",
              "      <td>0.50</td>\n",
              "      <td>223500</td>\n",
              "    </tr>\n",
              "    <tr>\n",
              "      <th>3</th>\n",
              "      <td>0.038561</td>\n",
              "      <td>0.133562</td>\n",
              "      <td>0.428571</td>\n",
              "      <td>Pave</td>\n",
              "      <td>Crawfor</td>\n",
              "      <td>0.143873</td>\n",
              "      <td>0.260550</td>\n",
              "      <td>0.666667</td>\n",
              "      <td>0.311594</td>\n",
              "      <td>0.333333</td>\n",
              "      <td>0.00</td>\n",
              "      <td>140000</td>\n",
              "    </tr>\n",
              "    <tr>\n",
              "      <th>4</th>\n",
              "      <td>0.060576</td>\n",
              "      <td>0.215753</td>\n",
              "      <td>0.428571</td>\n",
              "      <td>Pave</td>\n",
              "      <td>NoRidge</td>\n",
              "      <td>0.186095</td>\n",
              "      <td>0.351168</td>\n",
              "      <td>0.777778</td>\n",
              "      <td>0.927536</td>\n",
              "      <td>0.833333</td>\n",
              "      <td>0.50</td>\n",
              "      <td>250000</td>\n",
              "    </tr>\n",
              "  </tbody>\n",
              "</table>\n",
              "</div>"
            ],
            "text/plain": [
              "    LotArea  LotFrontage  OverallCond Street Neighborhood  1stFlrSF  \\\n",
              "0  0.033420     0.150685     0.428571   Pave      CollgCr  0.119780   \n",
              "1  0.038795     0.202055     0.857143   Pave      Veenker  0.212942   \n",
              "2  0.046507     0.160959     0.428571   Pave      CollgCr  0.134465   \n",
              "3  0.038561     0.133562     0.428571   Pave      Crawfor  0.143873   \n",
              "4  0.060576     0.215753     0.428571   Pave      NoRidge  0.186095   \n",
              "\n",
              "   GrLivArea  OverallQual  YearBuilt  YearRemodAdd  YrSold  SalePrice  \n",
              "0   0.259231     0.666667   0.949275      0.883333    0.50     208500  \n",
              "1   0.174830     0.555556   0.753623      0.433333    0.25     181500  \n",
              "2   0.273549     0.666667   0.934783      0.866667    0.50     223500  \n",
              "3   0.260550     0.666667   0.311594      0.333333    0.00     140000  \n",
              "4   0.351168     0.777778   0.927536      0.833333    0.50     250000  "
            ]
          },
          "metadata": {},
          "execution_count": 11
        }
      ],
      "metadata": {
        "colab": {
          "base_uri": "https://localhost:8080/",
          "height": 204
        },
        "id": "IUFEN9buP_4P",
        "outputId": "bb94a63e-2855-44fb-94d4-f8c5614d08f3"
      }
    },
    {
      "cell_type": "code",
      "execution_count": 12,
      "source": [
        "X = data.drop(columns = ['SalePrice'])\n",
        "Y = data['SalePrice']\n",
        "x_train, x_test, y_train, y_test = train_test_split(X, Y, test_size = 0.2)\n",
        "print(x_train.shape, y_train.shape)\n",
        "print(x_test.shape, y_test.shape)"
      ],
      "outputs": [
        {
          "output_type": "stream",
          "name": "stdout",
          "text": [
            "(960, 11) (960,)\n",
            "(241, 11) (241,)\n"
          ]
        }
      ],
      "metadata": {
        "colab": {
          "base_uri": "https://localhost:8080/"
        },
        "id": "j1wm4RO1P_4f",
        "outputId": "6a286d90-3140-402f-8d35-f0e96c65af39"
      }
    },
    {
      "cell_type": "markdown",
      "source": [
        "### Model - 'LotArea'"
      ],
      "metadata": {
        "id": "oe-xFKgHP_4k"
      }
    },
    {
      "cell_type": "code",
      "execution_count": 13,
      "source": [
        "train_la = x_train['LotArea'].values.reshape(-1, 1)\n",
        "test_la = x_test['LotArea'].values.reshape(-1,1)\n",
        "lr = LinearRegression()\n",
        "lr.fit(train_la, y_train)"
      ],
      "outputs": [
        {
          "output_type": "execute_result",
          "data": {
            "text/plain": [
              "LinearRegression()"
            ]
          },
          "metadata": {},
          "execution_count": 13
        }
      ],
      "metadata": {
        "colab": {
          "base_uri": "https://localhost:8080/"
        },
        "id": "ADnyzFYAP_4n",
        "outputId": "633b60de-54de-45f0-ae28-3ed7961fc715"
      }
    },
    {
      "cell_type": "code",
      "execution_count": 14,
      "source": [
        "print('Model - [LotArea]')\n",
        "print('Coefficient: ', lr.coef_)\n",
        "print('Intercept: ', lr.intercept_)"
      ],
      "outputs": [
        {
          "output_type": "stream",
          "name": "stdout",
          "text": [
            "Model - [LotArea]\n",
            "Coefficient:  [692942.23937643]\n",
            "Intercept:  153358.37414014598\n"
          ]
        }
      ],
      "metadata": {
        "colab": {
          "base_uri": "https://localhost:8080/"
        },
        "id": "_7vU3L6PP_5B",
        "outputId": "f8fb7598-0358-4756-992e-642c1c9f985b"
      }
    },
    {
      "cell_type": "markdown",
      "source": [
        "### Model 1 -  'LotArea', 'LotFrontage'"
      ],
      "metadata": {
        "id": "nlzh-zu5P_5X"
      }
    },
    {
      "cell_type": "code",
      "execution_count": 15,
      "source": [
        "train_m1 = x_train[['LotArea', 'LotFrontage']]\n",
        "test_m1 = x_test[['LotArea', 'LotFrontage']]\n",
        "model1 = LinearRegression()\n",
        "model1.fit(train_m1, y_train)"
      ],
      "outputs": [
        {
          "output_type": "execute_result",
          "data": {
            "text/plain": [
              "LinearRegression()"
            ]
          },
          "metadata": {},
          "execution_count": 15
        }
      ],
      "metadata": {
        "colab": {
          "base_uri": "https://localhost:8080/"
        },
        "id": "x-UGuWFBP_5g",
        "outputId": "9a9184a0-9f2c-408e-cf2b-098a85206e7e"
      }
    },
    {
      "cell_type": "code",
      "execution_count": 16,
      "source": [
        "print('Model 1 - [LotArea, LotFrontage]')\n",
        "train_pred = model1.predict(train_m1)\n",
        "test_pred = model1.predict(test_m1)\n",
        "md1_val_mse_test = mean_squared_error(y_test, test_pred);\n",
        "md1_val_mse_train = mean_squared_error(y_train, train_pred);\n",
        "print('Coefficients: ', model1.coef_)"
      ],
      "outputs": [
        {
          "output_type": "stream",
          "name": "stdout",
          "text": [
            "Model 1 - [LotArea, LotFrontage]\n",
            "Coefficients:  [463494.03313971 277017.17862297]\n"
          ]
        }
      ],
      "metadata": {
        "colab": {
          "base_uri": "https://localhost:8080/"
        },
        "id": "qSnc04rzP_5u",
        "outputId": "203d194c-167c-472b-acbe-f6b79af383af"
      }
    },
    {
      "cell_type": "markdown",
      "source": [
        "### Model 2 - 'LotArea', 'LotFrontage', 'OverallCond', 'OverallQual'"
      ],
      "metadata": {
        "id": "ltLOKIgxP_5y"
      }
    },
    {
      "cell_type": "code",
      "execution_count": null,
      "source": [
        "train_m2 = x_train[['LotArea', 'LotFrontage', 'OverallCond', 'OverallQual']]\n",
        "test_m2 = x_test[['LotArea', 'LotFrontage', 'OverallCond', 'OverallQual']]\n",
        "model2 = LinearRegression()\n",
        "model2.fit(train_m2, y_train)"
      ],
      "outputs": [
        {
          "output_type": "execute_result",
          "data": {
            "text/plain": [
              "LinearRegression(copy_X=True, fit_intercept=True, n_jobs=None, normalize=False)"
            ]
          },
          "metadata": {},
          "execution_count": 22
        }
      ],
      "metadata": {
        "colab": {
          "base_uri": "https://localhost:8080/"
        },
        "id": "8KGBttt5P_59",
        "outputId": "8defea5d-d27e-460e-ce40-d78d675af1e3"
      }
    },
    {
      "cell_type": "code",
      "execution_count": null,
      "source": [
        "print('Model 2 - [LotArea, LotFrontage, OverallCond, OverallQual]')\n",
        "train_pred = model2.predict(train_m2)\n",
        "test_pred = model2.predict(test_m2)\n",
        "md2_val_mse_test = mean_squared_error(y_test, test_pred);\n",
        "md2_val_mse_train = mean_squared_error(y_train, train_pred);\n",
        "print('Coefficients: ', model2.coef_)"
      ],
      "outputs": [
        {
          "output_type": "stream",
          "name": "stdout",
          "text": [
            "Model 2 - [LotArea, LotFrontage, OverallCond, OverallQual]\n",
            "Coefficients:  [613201.67339264  76097.38127866  -1824.0576519  390922.66303998]\n"
          ]
        }
      ],
      "metadata": {
        "colab": {
          "base_uri": "https://localhost:8080/"
        },
        "id": "OvBXJLhYP_6F",
        "outputId": "4272f9ba-2271-4ea1-a47c-af968092566e"
      }
    },
    {
      "cell_type": "markdown",
      "source": [
        "### Model 3 - 'LotArea', 'LotFrontage', 'OverallCond', 'OverallQual', '1stFlrSF', 'GrLivArea'"
      ],
      "metadata": {
        "id": "2jcBjJ6oP_6L"
      }
    },
    {
      "cell_type": "code",
      "execution_count": null,
      "source": [
        "train_m3 = x_train[['LotArea', 'LotFrontage', 'OverallCond', 'OverallQual', '1stFlrSF', 'GrLivArea',]]\n",
        "test_m3 = x_test[['LotArea', 'LotFrontage', 'OverallCond', 'OverallQual', '1stFlrSF', 'GrLivArea',]]\n",
        "model3 = LinearRegression()\n",
        "model3.fit(train_m3, y_train)"
      ],
      "outputs": [
        {
          "output_type": "execute_result",
          "data": {
            "text/plain": [
              "LinearRegression(copy_X=True, fit_intercept=True, n_jobs=None, normalize=False)"
            ]
          },
          "metadata": {},
          "execution_count": 24
        }
      ],
      "metadata": {
        "colab": {
          "base_uri": "https://localhost:8080/"
        },
        "id": "cB3HEri6P_6O",
        "outputId": "6b7ad2f7-7dab-4bb7-c7e8-7e1c7f97eab9"
      }
    },
    {
      "cell_type": "code",
      "execution_count": null,
      "source": [
        "print('Model 3 - [LotArea, LotFrontage, OverallCond, OverallQual, 1stFlrSF, GrLivArea]')\n",
        "train_pred = model3.predict(train_m3)\n",
        "test_pred = model3.predict(test_m3)\n",
        "md3_val_mse_test = mean_squared_error(y_test, test_pred);\n",
        "md3_val_mse_train = mean_squared_error(y_train, train_pred);\n",
        "print('Coefficients: ', model3.coef_)"
      ],
      "outputs": [
        {
          "output_type": "stream",
          "name": "stdout",
          "text": [
            "Model 3 - [LotArea, LotFrontage, OverallCond, OverallQual, 1stFlrSF, GrLivArea]\n",
            "Coefficients:  [257549.4802527   -4683.57479543   7630.44237983 284732.94047946\n",
            " 152860.7105846  229847.2049926 ]\n"
          ]
        }
      ],
      "metadata": {
        "colab": {
          "base_uri": "https://localhost:8080/"
        },
        "id": "WjGlssFUP_6W",
        "outputId": "106087d0-75bf-4d3e-eb2a-9a2696f94694"
      }
    },
    {
      "cell_type": "markdown",
      "source": [
        "### Comparisons"
      ],
      "metadata": {
        "id": "ZfV0iTozkiTA"
      }
    },
    {
      "cell_type": "code",
      "execution_count": null,
      "source": [
        "la_mse_test = []\n",
        "la_mse_test.append(md1_val_mse_test)\n",
        "la_mse_test.append(md2_val_mse_test)\n",
        "la_mse_test.append(md3_val_mse_test)\n",
        "la_mse_train = []\n",
        "la_mse_train.append(md1_val_mse_train)\n",
        "la_mse_train.append(md2_val_mse_train)\n",
        "la_mse_train.append(md3_val_mse_train)\n",
        "print(la_mse_test)"
      ],
      "outputs": [
        {
          "output_type": "stream",
          "name": "stdout",
          "text": [
            "[7782170883.302836, 2642057786.8512316, 1824498245.1149259]\n"
          ]
        }
      ],
      "metadata": {
        "colab": {
          "base_uri": "https://localhost:8080/"
        },
        "id": "TG23_ZvBkiTm",
        "outputId": "deab17a8-a9e7-42d6-f848-a0dad9dff651"
      }
    },
    {
      "cell_type": "code",
      "execution_count": null,
      "source": [
        "plt.title('MSE value as per different models')\n",
        "plt.xlabel('Model')\n",
        "plt.ylabel('MSE value')\n",
        "plt.plot(['model1', 'model2', 'model3'], la_mse_train,label = 'Training')\n",
        "plt.plot(['model1', 'model2', 'model3'], la_mse_test,label = 'Testing')\n",
        "plt.legend()\n",
        "plt.show()"
      ],
      "outputs": [
        {
          "output_type": "display_data",
          "data": {
            "image/png": "[encoded data removed]",
            "text/plain": [
              "<Figure size 432x288 with 1 Axes>"
            ]
          },
          "metadata": {
            "needs_background": "light"
          }
        }
      ],
      "metadata": {
        "colab": {
          "base_uri": "https://localhost:8080/",
          "height": 295
        },
        "id": "3Or2cNUokiTn",
        "outputId": "67eccaa3-6082-4f39-cc23-bb95400cf6f5"
      }
    },
    {
      "cell_type": "code",
      "execution_count": null,
      "source": [
        "r2_test = []\n",
        "r2_train = []\n",
        "r2_train.append( model1.score(train_m1, y_train))\n",
        "r2_train.append( model2.score(train_m2, y_train))\n",
        "r2_train.append( model3.score(train_m3, y_train))\n",
        "r2_test.append(model1.score(test_m1, y_test))\n",
        "r2_test.append(model2.score(test_m2, y_test))\n",
        "r2_test.append(model3.score(test_m3, y_test))"
      ],
      "outputs": [],
      "metadata": {
        "id": "E0OjQZ92n1-R"
      }
    },
    {
      "cell_type": "code",
      "execution_count": null,
      "source": [
        "plt.title('R2 scores as per different models')\n",
        "plt.xlabel('Model')\n",
        "plt.ylabel('R2 score')\n",
        "plt.plot(['model1', 'model2', 'model3'], r2_train,label = 'Training')\n",
        "plt.plot(['model1', 'model2', 'model3'], r2_test,label = 'Testing')\n",
        "plt.legend()\n",
        "plt.show()"
      ],
      "outputs": [
        {
          "output_type": "display_data",
          "data": {
            "image/png": "[encoded data removed]",
            "text/plain": [
              "<Figure size 432x288 with 1 Axes>"
            ]
          },
          "metadata": {
            "needs_background": "light"
          }
        }
      ],
      "metadata": {
        "colab": {
          "base_uri": "https://localhost:8080/",
          "height": 295
        },
        "id": "bFCS6ZOEolqU",
        "outputId": "d128ee37-eed0-49c2-8d73-8ca06e4ddf42"
      }
    },
    {
      "cell_type": "markdown",
      "source": [
        "### One Hot Encoding"
      ],
      "metadata": {
        "id": "FiR7KK69P_7D"
      }
    },
    {
      "cell_type": "code",
      "execution_count": null,
      "source": [
        "street = data['Street'].values.reshape(-1, 1)\n",
        "neigh = data['Neighborhood'].values.reshape(-1, 1)\n",
        "ohe = OneHotEncoder()\n",
        "street_ohe = ohe.fit_transform(street)\n",
        "neigh_ohe = ohe.fit_transform(neigh)"
      ],
      "outputs": [],
      "metadata": {
        "id": "7HJUV4LPP_7u"
      }
    },
    {
      "cell_type": "markdown",
      "source": [
        "### Model 4 - 'LotArea', 'Street'"
      ],
      "metadata": {
        "id": "wxhzNd32P_8A"
      }
    },
    {
      "cell_type": "code",
      "execution_count": null,
      "source": [
        "model4_x = hstack((data['LotArea'].values.reshape(-1, 1), street_ohe))"
      ],
      "outputs": [],
      "metadata": {
        "id": "l8CMRJKzP_8E"
      }
    },
    {
      "cell_type": "code",
      "execution_count": null,
      "source": [
        "x_train_m4, x_test_m4, y_train_m4, y_test_m4 = train_test_split(model4_x, Y, test_size = 0.2)\n",
        "print(x_train_m4.shape, y_train_m4.shape)\n",
        "print(x_test_m4.shape, y_test_m4.shape)"
      ],
      "outputs": [
        {
          "output_type": "stream",
          "name": "stdout",
          "text": [
            "(960, 3) (960,)\n",
            "(241, 3) (241,)\n"
          ]
        }
      ],
      "metadata": {
        "colab": {
          "base_uri": "https://localhost:8080/"
        },
        "id": "SKEPfYLGP_8M",
        "outputId": "15001309-13cd-4bbf-b039-ec84f469f747"
      }
    },
    {
      "cell_type": "code",
      "execution_count": null,
      "source": [
        "model4 = LinearRegression()\n",
        "model4.fit(x_train_m4, y_train_m4)\n",
        "print('Model 4 - [LotArea, Street]')\n",
        "train_pred = model4.predict(x_train_m4)\n",
        "test_pred = model4.predict(x_test_m4)\n",
        "print('Coefficients: ', model4.coef_)"
      ],
      "outputs": [
        {
          "output_type": "stream",
          "name": "stdout",
          "text": [
            "Model 4 - [LotArea, Street]\n",
            "Coefficients:  [646890.40452625 -33864.85405796  33864.85405796]\n"
          ]
        }
      ],
      "metadata": {
        "colab": {
          "base_uri": "https://localhost:8080/"
        },
        "id": "uyV1sTx4P_8S",
        "outputId": "171a7404-1707-477c-85fe-da0c0da1ab6f"
      }
    },
    {
      "cell_type": "markdown",
      "source": [
        "### Model 5 - 'LotArea', 'OverallCond', 'Street', 'Neighborhood'"
      ],
      "metadata": {
        "id": "rVWegFHlP_8W"
      }
    },
    {
      "cell_type": "code",
      "execution_count": null,
      "source": [
        "numerical = data[['LotArea', 'OverallCond']]\n",
        "model5_x = hstack((numerical, street_ohe, neigh_ohe))\n",
        "print(model5_x.shape)"
      ],
      "outputs": [
        {
          "output_type": "stream",
          "name": "stdout",
          "text": [
            "(1201, 29)\n"
          ]
        }
      ],
      "metadata": {
        "colab": {
          "base_uri": "https://localhost:8080/"
        },
        "id": "yOc4uvbQP_8Y",
        "outputId": "fdebba7a-7f5f-4255-fe9f-9197f7862728"
      }
    },
    {
      "cell_type": "code",
      "execution_count": null,
      "source": [
        "x_train_m5, x_test_m5, y_train_m5, y_test_m5 = train_test_split(model5_x, Y, test_size = 0.2)\n",
        "print(x_train_m5.shape, y_train_m5.shape)\n",
        "print(x_test_m5.shape, y_test_m5.shape)"
      ],
      "outputs": [
        {
          "output_type": "stream",
          "name": "stdout",
          "text": [
            "(960, 29) (960,)\n",
            "(241, 29) (241,)\n"
          ]
        }
      ],
      "metadata": {
        "colab": {
          "base_uri": "https://localhost:8080/"
        },
        "id": "_ZQ_Psz3P_8c",
        "outputId": "fbd52392-1bbf-4ccb-89a3-fbee6a3dd071"
      }
    },
    {
      "cell_type": "code",
      "execution_count": null,
      "source": [
        "model5 = LinearRegression()\n",
        "model5.fit(x_train_m5, y_train_m5)\n",
        "print('Model 5 - [LotArea, OverallCond, Street, Neighborhood]')\n",
        "train_pred = model5.predict(x_train_m5)\n",
        "test_pred = model5.predict(x_test_m5)\n",
        "print('Coefficients: ', model5.coef_)"
      ],
      "outputs": [
        {
          "output_type": "stream",
          "name": "stdout",
          "text": [
            "Model 5 - [LotArea, OverallCond, Street, Neighborhood]\n",
            "Coefficients:  [393241.27290969  46630.1496338   -8765.04528672   8765.04528673\n",
            "  27443.75877913 -34554.68214248 -62082.57325777 -60493.30520954\n",
            "  -3818.32926193  17927.9831375   11160.32502431 -60156.9557187\n",
            "   7957.78530141 -77876.02418201 -73193.4529532  -26944.88526015\n",
            " -39235.36387957 -25071.20430749  -4750.25233583 147859.58305708\n",
            " 136031.92306941 -60173.61668647 -41547.8377744  -50248.82941272\n",
            "   9237.29738315  46333.03623781 105159.86703751  52694.22610362\n",
            "  58341.52725131]\n"
          ]
        }
      ],
      "metadata": {
        "colab": {
          "base_uri": "https://localhost:8080/"
        },
        "id": "yFIkXjQ_P_8f",
        "outputId": "58fbb0d7-22a7-4678-ecc4-d595c464d23b"
      }
    },
    {
      "cell_type": "markdown",
      "source": [
        "### Model 6 - 'LotArea', 'OverallCond', 'Street', '1stFlrSF', 'Neighborhood', 'YearBuilt', 'YearRemodAdd', 'YrSold'"
      ],
      "metadata": {
        "id": "NwlIrAn_P_8i"
      }
    },
    {
      "cell_type": "code",
      "execution_count": null,
      "source": [
        "numerical = data[['LotArea', 'OverallCond', '1stFlrSF', 'YearBuilt', 'YearRemodAdd', 'YrSold']]\n",
        "model6_x = hstack((numerical, street_ohe, neigh_ohe))\n",
        "print(model6_x.shape)"
      ],
      "outputs": [
        {
          "output_type": "stream",
          "name": "stdout",
          "text": [
            "(1201, 33)\n"
          ]
        }
      ],
      "metadata": {
        "colab": {
          "base_uri": "https://localhost:8080/"
        },
        "id": "GccO0XNpP_8x",
        "outputId": "693335b2-a1e1-4128-9990-5439af06f2a8"
      }
    },
    {
      "cell_type": "code",
      "execution_count": null,
      "source": [
        "x_train_m6, x_test_m6, y_train_m6, y_test_m6 = train_test_split(model6_x, Y, test_size = 0.2)\n",
        "print(x_train_m6.shape, y_train_m6.shape)\n",
        "print(x_test_m6.shape, y_test_m6.shape)"
      ],
      "outputs": [
        {
          "output_type": "stream",
          "name": "stdout",
          "text": [
            "(960, 33) (960,)\n",
            "(241, 33) (241,)\n"
          ]
        }
      ],
      "metadata": {
        "colab": {
          "base_uri": "https://localhost:8080/"
        },
        "id": "nfbDUivBP_83",
        "outputId": "6400bf4f-5d0f-48ce-b470-6aac2134756e"
      }
    },
    {
      "cell_type": "code",
      "execution_count": null,
      "source": [
        "model6 = LinearRegression()\n",
        "model6.fit(x_train_m6, y_train_m6)\n",
        "print('Model 6 - [LotArea, OverallCond, Street, 1stFlrSF, Neighborhood, YearBuilt, YearRemodAdd, YrSold]')\n",
        "train_pred = model6.predict(x_train_m6)\n",
        "test_pred = model6.predict(x_test_m6)\n",
        "print('Coefficients: ', model6.coef_)"
      ],
      "outputs": [
        {
          "output_type": "stream",
          "name": "stdout",
          "text": [
            "Model 6 - [LotArea, OverallCond, Street, 1stFlrSF, Neighborhood, YearBuilt, YearRemodAdd, YrSold]\n",
            "Coefficients:  [ 2.78862102e+05  5.47490545e+04  3.15155895e+05  6.09128812e+04\n",
            "  2.53497473e+04 -4.81588118e+03 -1.45230095e+04  1.45230095e+04\n",
            " -1.96359540e+04 -4.80979577e+03 -2.21746866e+04 -1.80460725e+04\n",
            " -1.57135585e+04 -6.71909247e+03  2.41749982e+04 -4.33788078e+04\n",
            " -1.37223093e+02 -3.08002620e+04 -4.33511707e+04 -4.43348091e+04\n",
            " -3.25925492e+04 -1.19967704e+04 -1.58669417e+04  1.20263667e+05\n",
            "  7.99481049e+04 -2.23398612e+04 -9.38003165e+03 -4.34031689e+04\n",
            " -8.08212703e+03  2.45948344e+04  1.00397205e+05  1.57828944e+04\n",
            "  2.76011782e+04]\n"
          ]
        }
      ],
      "metadata": {
        "colab": {
          "base_uri": "https://localhost:8080/"
        },
        "id": "glzA9jZjP_85",
        "outputId": "cbdd25e1-082d-461f-cc04-bb96ba8fa71f"
      }
    },
    {
      "cell_type": "markdown",
      "source": [
        "### Comparison"
      ],
      "metadata": {
        "id": "qJCDR5-tP_9E"
      }
    },
    {
      "cell_type": "code",
      "execution_count": null,
      "source": [
        "la_weights = []\n",
        "la_weights.append(model1.coef_[0])\n",
        "la_weights.append(model2.coef_[0])\n",
        "la_weights.append(model3.coef_[0])\n",
        "la_weights.append(model4.coef_[0])\n",
        "la_weights.append(model5.coef_[0])\n",
        "la_weights.append(model6.coef_[0])\n",
        "print(la_weights)"
      ],
      "outputs": [
        {
          "output_type": "stream",
          "name": "stdout",
          "text": [
            "[943421.1185378005, 613201.6733926391, 257549.48025270342, 646890.4045262489, 393241.27290969295, 278862.1016856336]\n"
          ]
        }
      ],
      "metadata": {
        "colab": {
          "base_uri": "https://localhost:8080/"
        },
        "id": "PVhdqJ-hP_9G",
        "outputId": "7e3968ef-59a6-4f67-86b7-fb27d3aee444"
      }
    },
    {
      "cell_type": "code",
      "execution_count": null,
      "source": [
        "plt.title('Weight of LotArea (normalized) as per different models')\n",
        "plt.xlabel('Model')\n",
        "plt.ylabel('Weight')\n",
        "plt.plot(['model1', 'model2', 'model3', 'model4', 'model5', 'model6'], la_weights)\n",
        "plt.show()"
      ],
      "outputs": [
        {
          "output_type": "display_data",
          "data": {
            "image/png": "[encoded data removed]",
            "text/plain": [
              "<Figure size 432x288 with 1 Axes>"
            ]
          },
          "metadata": {
            "needs_background": "light"
          }
        }
      ],
      "metadata": {
        "colab": {
          "base_uri": "https://localhost:8080/"
        },
        "id": "7XlCQAeFP_9K",
        "outputId": "2d00e58e-147b-4d91-9d99-dcf34d3633ec"
      }
    },
    {
      "cell_type": "markdown",
      "source": [
        "### Polynomial Regression using LotArea"
      ],
      "metadata": {
        "id": "NptUJCMsP_9e"
      }
    },
    {
      "cell_type": "code",
      "execution_count": null,
      "source": [
        "degree=2\n",
        "poly_features = PolynomialFeatures(degree = 2)\n",
        "train_la_poly = poly_features.fit_transform(train_la)\n",
        "polyreg = LinearRegression()\n",
        "polyreg.fit(train_la_poly,y_train)"
      ],
      "outputs": [
        {
          "output_type": "execute_result",
          "data": {
            "text/plain": [
              "LinearRegression(copy_X=True, fit_intercept=True, n_jobs=None, normalize=False)"
            ]
          },
          "metadata": {},
          "execution_count": 42
        }
      ],
      "metadata": {
        "colab": {
          "base_uri": "https://localhost:8080/"
        },
        "id": "bXMsBUZjP_9g",
        "outputId": "a52b5372-767a-4e5a-8138-c5a80d69c7db"
      }
    },
    {
      "cell_type": "code",
      "execution_count": null,
      "source": [
        "print('Model with degree 2 - [LotArea]')\n",
        "print('Coefficient:' , polyreg.coef_)"
      ],
      "outputs": [
        {
          "output_type": "stream",
          "name": "stdout",
          "text": [
            "Model with degree 2 - [LotArea]\n",
            "Coefficient: [       0.          2651971.43467082 -6801487.55428714]\n"
          ]
        }
      ],
      "metadata": {
        "colab": {
          "base_uri": "https://localhost:8080/"
        },
        "id": "Tqc0t8olP_9p",
        "outputId": "89a309e3-f6c0-4289-9be9-ddba02b7ae7a"
      }
    },
    {
      "cell_type": "code",
      "execution_count": null,
      "source": [
        "degree=2\n",
        "poly_features = PolynomialFeatures(degree = 3)\n",
        "train_la_poly = poly_features.fit_transform(train_la)\n",
        "polyreg = LinearRegression()\n",
        "polyreg.fit(train_la_poly,y_train)"
      ],
      "outputs": [
        {
          "output_type": "execute_result",
          "data": {
            "text/plain": [
              "LinearRegression(copy_X=True, fit_intercept=True, n_jobs=None, normalize=False)"
            ]
          },
          "metadata": {},
          "execution_count": 44
        }
      ],
      "metadata": {
        "colab": {
          "base_uri": "https://localhost:8080/"
        },
        "id": "JoaPfV59P_-L",
        "outputId": "ff78a41c-be76-4c78-d73b-1ab196f8bb7b"
      }
    },
    {
      "cell_type": "code",
      "execution_count": null,
      "source": [
        "print('Model with degree 3 - [LotArea]')\n",
        "print('Coefficient:' , polyreg.coef_)"
      ],
      "outputs": [
        {
          "output_type": "stream",
          "name": "stdout",
          "text": [
            "Model with degree 3 - [LotArea]\n",
            "Coefficient: [       0.          2540633.12624487 -5283551.67058331 -4048218.68401332]\n"
          ]
        }
      ],
      "metadata": {
        "colab": {
          "base_uri": "https://localhost:8080/"
        },
        "id": "-pD-byv6P_-V",
        "outputId": "810e15b8-5b73-4eaf-ab9b-107b04007cbb"
      }
    }
  ]
}